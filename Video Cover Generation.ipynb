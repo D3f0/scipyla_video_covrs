{
 "cells": [
  {
   "cell_type": "markdown",
   "metadata": {},
   "source": [
    "# Create Video Covers"
   ]
  },
  {
   "cell_type": "code",
   "execution_count": 14,
   "metadata": {
    "collapsed": false
   },
   "outputs": [],
   "source": [
    "from lxml import etree\n",
    "import sh\n",
    "from random import choice\n",
    "from string import ascii_lowercase, ascii_uppercase, digits\n",
    "allowed_chr = ascii_lowercase + ascii_uppercase + digits\n",
    "# Generate Safe File names\n",
    "getsafe= lambda name: ''.join([c if c in allowed_chr else '' for c in name])\n"
   ]
  },
  {
   "cell_type": "markdown",
   "metadata": {},
   "source": [
    "# Load SVG template"
   ]
  },
  {
   "cell_type": "code",
   "execution_count": 15,
   "metadata": {
    "collapsed": true
   },
   "outputs": [],
   "source": [
    "svg = etree.parse('template.svg')"
   ]
  },
  {
   "cell_type": "code",
   "execution_count": 16,
   "metadata": {
    "collapsed": true
   },
   "outputs": [],
   "source": [
    "# Data extracted from GITHUB\n",
    "## * separate titles in lines"
   ]
  },
  {
   "cell_type": "code",
   "execution_count": 43,
   "metadata": {
    "collapsed": true
   },
   "outputs": [],
   "source": [
    "data = \"\"\"\\\n",
    " Welcome - Ivan Ogasawara\n",
    " Lightning talks (18/05/2016)\n",
    " Sinestesia científica - Explorando dados*através da música, com DataSounds - Arnaldo Russo\n",
    " The numba library - Edison Gustavo Muenz\n",
    " Software Carpentry - Raniere Silva\n",
    " External Commands - Juan Cabral\n",
    " import community - Fernando Masanori\n",
    " Conda-forge and the future of the *Scientific Python packaging - Filipe Fernandes\n",
    " Geração da Fármacos com Python - Mário Ségio de Queiroz\n",
    " Lightning talks (19/05/2016)\n",
    " Fighting techniques in kaggle war - Emilio Simoni\n",
    " 3DBMO: A Python Tool to Study the Power *Spectrum Dimensional Dependence in *Complex Physical Systems - Paulo Giovani\n",
    " A Simplificação Textual como *instrumento de inclusão cognitiva - Vinicius Woloszyn\n",
    " Solving Math Programming *Problems with Python - Eduardo Silva\n",
    " Round table about how to *run your own event - Ivan Ogasawara, Raniere Silva\n",
    " Round table about SciPy *Latin America 2017\n",
    " Interactive Data Visualization in the *Browser with Bokeh - Bryan Van de Ven\n",
    " Lightning talks (20/05/2016)\n",
    " Ecuaciones diferenciales con Python - Raul Lopez Briega\n",
    " Localiza, una biblioteca para la *localización óptima de *equipamientos sociales - Francisco Palm\n",
    " Learning Analytics: utilizando *Data Science para melhorar *a educação - Matheus Braun Magrin\n",
    " From SCADA to IoT with Python - Nahuel Defossé\n",
    " Concluding discussion - Ivan Ogasawara, Raniere Silva\"\"\"\n",
    "def split_tile(line):\n",
    "    line = line.strip()\n",
    "    if '-' in line:\n",
    "        return tuple(map(lambda s: s.strip(), line.rsplit('-', 1)))\n",
    "    else:\n",
    "        return (line, '')\n",
    "data = [\n",
    "    split_tile(d) for d in \n",
    "    data.split('\\n')\n",
    "]"
   ]
  },
  {
   "cell_type": "code",
   "execution_count": 44,
   "metadata": {
    "collapsed": false
   },
   "outputs": [
    {
     "data": {
      "text/plain": [
       "[('Welcome', 'Ivan Ogasawara'),\n",
       " ('Lightning talks (18/05/2016)', ''),\n",
       " ('Sinestesia científica - Explorando dados*através da música, com DataSounds',\n",
       "  'Arnaldo Russo'),\n",
       " ('The numba library', 'Edison Gustavo Muenz'),\n",
       " ('Software Carpentry', 'Raniere Silva'),\n",
       " ('External Commands', 'Juan Cabral'),\n",
       " ('import community', 'Fernando Masanori'),\n",
       " ('Conda-forge and the future of the *Scientific Python packaging',\n",
       "  'Filipe Fernandes'),\n",
       " ('Geração da Fármacos com Python', 'Mário Ségio de Queiroz'),\n",
       " ('Lightning talks (19/05/2016)', ''),\n",
       " ('Fighting techniques in kaggle war', 'Emilio Simoni'),\n",
       " ('3DBMO: A Python Tool to Study the Power *Spectrum Dimensional Dependence in *Complex Physical Systems',\n",
       "  'Paulo Giovani'),\n",
       " ('A Simplificação Textual como *instrumento de inclusão cognitiva',\n",
       "  'Vinicius Woloszyn'),\n",
       " ('Solving Math Programming *Problems with Python', 'Eduardo Silva'),\n",
       " ('Round table about how to *run your own event',\n",
       "  'Ivan Ogasawara, Raniere Silva'),\n",
       " ('Round table about SciPy *Latin America 2017', ''),\n",
       " ('Interactive Data Visualization in the *Browser with Bokeh',\n",
       "  'Bryan Van de Ven'),\n",
       " ('Lightning talks (20/05/2016)', ''),\n",
       " ('Ecuaciones diferenciales con Python', 'Raul Lopez Briega'),\n",
       " ('Localiza, una biblioteca para la *localización óptima de *equipamientos sociales',\n",
       "  'Francisco Palm'),\n",
       " ('Learning Analytics: utilizando *Data Science para melhorar *a educação',\n",
       "  'Matheus Braun Magrin'),\n",
       " ('From SCADA to IoT with Python', 'Nahuel Defossé'),\n",
       " ('Concluding discussion', 'Ivan Ogasawara, Raniere Silva')]"
      ]
     },
     "execution_count": 44,
     "metadata": {},
     "output_type": "execute_result"
    }
   ],
   "source": [
    "data"
   ]
  },
  {
   "cell_type": "code",
   "execution_count": 45,
   "metadata": {
    "collapsed": false
   },
   "outputs": [],
   "source": [
    "nsmap = {\n",
    "    'sodipodi': 'http://sodipodi.sourceforge.net/DTD/sodipodi-0.dtd',\n",
    "    'cc': 'http://web.resource.org/cc/',\n",
    "    'svg': 'http://www.w3.org/2000/svg',\n",
    "    'dc': 'http://purl.org/dc/elements/1.1/',\n",
    "    'xlink': 'http://www.w3.org/1999/xlink',\n",
    "    'rdf': 'http://www.w3.org/1999/02/22-rdf-syntax-ns#',\n",
    "    'inkscape': 'http://www.inkscape.org/namespaces/inkscape'\n",
    "    }\n"
   ]
  },
  {
   "cell_type": "code",
   "execution_count": 46,
   "metadata": {
    "collapsed": false
   },
   "outputs": [],
   "source": [
    "etitle = svg.xpath('//svg:text[@id=\"title\"]',namespaces=nsmap)[0]\n",
    "eauthor = svg.xpath('//svg:*[@id=\"author\"]',namespaces=nsmap)[0]\n"
   ]
  },
  {
   "cell_type": "code",
   "execution_count": 47,
   "metadata": {
    "collapsed": false
   },
   "outputs": [],
   "source": [
    "!rm out/*"
   ]
  },
  {
   "cell_type": "code",
   "execution_count": 48,
   "metadata": {
    "collapsed": false
   },
   "outputs": [
    {
     "name": "stdout",
     "output_type": "stream",
     "text": [
      "0\n",
      "Welcome\n",
      "\n",
      "\n",
      "Ivan Ogasawara\n",
      "--------------------\n",
      "1\n",
      "Lightning talks (18/05/2016)\n",
      "\n",
      "\n",
      "\n",
      "--------------------\n",
      "2\n",
      "Sinestesia científica - Explorando dados\n",
      "através da música, com DataSounds\n",
      "\n",
      "Arnaldo Russo\n",
      "--------------------\n",
      "3\n",
      "The numba library\n",
      "\n",
      "\n",
      "Edison Gustavo Muenz\n",
      "--------------------\n",
      "4\n",
      "Software Carpentry\n",
      "\n",
      "\n",
      "Raniere Silva\n",
      "--------------------\n",
      "5\n",
      "External Commands\n",
      "\n",
      "\n",
      "Juan Cabral\n",
      "--------------------\n",
      "6\n",
      "import community\n",
      "\n",
      "\n",
      "Fernando Masanori\n",
      "--------------------\n",
      "7\n",
      "Conda-forge and the future of the \n",
      "Scientific Python packaging\n",
      "\n",
      "Filipe Fernandes\n",
      "--------------------\n",
      "8\n",
      "Geração da Fármacos com Python\n",
      "\n",
      "\n",
      "Mário Ségio de Queiroz\n",
      "--------------------\n",
      "9\n",
      "Lightning talks (19/05/2016)\n",
      "\n",
      "\n",
      "\n",
      "--------------------\n",
      "10\n",
      "Fighting techniques in kaggle war\n",
      "\n",
      "\n",
      "Emilio Simoni\n",
      "--------------------\n",
      "11\n",
      "3DBMO: A Python Tool to Study the Power \n",
      "Spectrum Dimensional Dependence in \n",
      "Complex Physical Systems\n",
      "Paulo Giovani\n",
      "--------------------\n",
      "12\n",
      "A Simplificação Textual como \n",
      "instrumento de inclusão cognitiva\n",
      "\n",
      "Vinicius Woloszyn\n",
      "--------------------\n",
      "13\n",
      "Solving Math Programming \n",
      "Problems with Python\n",
      "\n",
      "Eduardo Silva\n",
      "--------------------\n",
      "14\n",
      "Round table about how to \n",
      "run your own event\n",
      "\n",
      "Ivan Ogasawara, Raniere Silva\n",
      "--------------------\n",
      "15\n",
      "Round table about SciPy \n",
      "Latin America 2017\n",
      "\n",
      "\n",
      "--------------------\n",
      "16\n",
      "Interactive Data Visualization in the \n",
      "Browser with Bokeh\n",
      "\n",
      "Bryan Van de Ven\n",
      "--------------------\n",
      "17\n",
      "Lightning talks (20/05/2016)\n",
      "\n",
      "\n",
      "\n",
      "--------------------\n",
      "18\n",
      "Ecuaciones diferenciales con Python\n",
      "\n",
      "\n",
      "Raul Lopez Briega\n",
      "--------------------\n",
      "19\n",
      "Localiza, una biblioteca para la \n",
      "localización óptima de \n",
      "equipamientos sociales\n",
      "Francisco Palm\n",
      "--------------------\n",
      "20\n",
      "Learning Analytics: utilizando \n",
      "Data Science para melhorar \n",
      "a educação\n",
      "Matheus Braun Magrin\n",
      "--------------------\n",
      "21\n",
      "From SCADA to IoT with Python\n",
      "\n",
      "\n",
      "Nahuel Defossé\n",
      "--------------------\n",
      "22\n",
      "Concluding discussion\n",
      "\n",
      "\n",
      "Ivan Ogasawara, Raniere Silva\n",
      "--------------------\n"
     ]
    }
   ],
   "source": [
    "for i, (title, author) in enumerate(data):\n",
    "    tspan1, tspan2, tspan3 = etitle.getchildren()\n",
    "    parts = title.split('*')\n",
    "    assert len(parts) < 4\n",
    "    missing = 3 - len(parts)\n",
    "    title_1, title_2, title_3 = parts + ['' for _ in range(missing)]\n",
    "    print(i, title_1, title_2, title_3, author, \"-\" * 20, sep=\"\\n\")    \n",
    "    tspan1.text = title_1\n",
    "    tspan2.text = title_2\n",
    "    tspan3.text = title_3\n",
    "    # Author\n",
    "    eauthor.text = author\n",
    "    \n",
    "    with open('out/title_%d_%s.svg' % (i, getsafe(title[:20])), 'w') as fp:\n",
    "        fp.write(etree.tostring(svg).decode('utf-8'))\n"
   ]
  },
  {
   "cell_type": "code",
   "execution_count": 49,
   "metadata": {
    "collapsed": false
   },
   "outputs": [
    {
     "name": "stdout",
     "output_type": "stream",
     "text": [
      "'/Applications/Inkscape.app/Contents/Resources/script' -z -f \"/Users/nahuel/Desktop/SciPyLaVideoCovers/out/title_0_Welcome.svg\" -e \"/Users/nahuel/Desktop/SciPyLaVideoCovers/out/title_0_Welcome_150.png\" -d 150\n",
      "DPI: 150\n",
      "Background RRGGBBAA: ffffffff\n",
      "Area 0:0:1280:720 exported to 2133 x 1200 pixels (150 dpi)\n",
      "Bitmap saved as: /Users/nahuel/Desktop/SciPyLaVideoCovers/out/title_0_Welcome_150.png\n",
      "'/Applications/Inkscape.app/Contents/Resources/script' -z -f \"/Users/nahuel/Desktop/SciPyLaVideoCovers/out/title_10_Fightingtechniques.svg\" -e \"/Users/nahuel/Desktop/SciPyLaVideoCovers/out/title_10_Fightingtechniques_150.png\" -d 150\n",
      "DPI: 150\n",
      "Background RRGGBBAA: ffffffff\n",
      "Area 0:0:1280:720 exported to 2133 x 1200 pixels (150 dpi)\n",
      "Bitmap saved as: /Users/nahuel/Desktop/SciPyLaVideoCovers/out/title_10_Fightingtechniques_150.png\n",
      "'/Applications/Inkscape.app/Contents/Resources/script' -z -f \"/Users/nahuel/Desktop/SciPyLaVideoCovers/out/title_11_3DBMOAPythonTool.svg\" -e \"/Users/nahuel/Desktop/SciPyLaVideoCovers/out/title_11_3DBMOAPythonTool_150.png\" -d 150\n",
      "DPI: 150\n",
      "Background RRGGBBAA: ffffffff\n",
      "Area 0:0:1280:720 exported to 2133 x 1200 pixels (150 dpi)\n",
      "Bitmap saved as: /Users/nahuel/Desktop/SciPyLaVideoCovers/out/title_11_3DBMOAPythonTool_150.png\n",
      "'/Applications/Inkscape.app/Contents/Resources/script' -z -f \"/Users/nahuel/Desktop/SciPyLaVideoCovers/out/title_12_ASimplificaoText.svg\" -e \"/Users/nahuel/Desktop/SciPyLaVideoCovers/out/title_12_ASimplificaoText_150.png\" -d 150\n",
      "DPI: 150\n",
      "Background RRGGBBAA: ffffffff\n",
      "Area 0:0:1280:720 exported to 2133 x 1200 pixels (150 dpi)\n",
      "Bitmap saved as: /Users/nahuel/Desktop/SciPyLaVideoCovers/out/title_12_ASimplificaoText_150.png\n",
      "'/Applications/Inkscape.app/Contents/Resources/script' -z -f \"/Users/nahuel/Desktop/SciPyLaVideoCovers/out/title_13_SolvingMathProgram.svg\" -e \"/Users/nahuel/Desktop/SciPyLaVideoCovers/out/title_13_SolvingMathProgram_150.png\" -d 150\n",
      "DPI: 150\n",
      "Background RRGGBBAA: ffffffff\n",
      "Area 0:0:1280:720 exported to 2133 x 1200 pixels (150 dpi)\n",
      "Bitmap saved as: /Users/nahuel/Desktop/SciPyLaVideoCovers/out/title_13_SolvingMathProgram_150.png\n",
      "'/Applications/Inkscape.app/Contents/Resources/script' -z -f \"/Users/nahuel/Desktop/SciPyLaVideoCovers/out/title_14_Roundtableaboutho.svg\" -e \"/Users/nahuel/Desktop/SciPyLaVideoCovers/out/title_14_Roundtableaboutho_150.png\" -d 150\n",
      "DPI: 150\n",
      "Background RRGGBBAA: ffffffff\n",
      "Area 0:0:1280:720 exported to 2133 x 1200 pixels (150 dpi)\n",
      "Bitmap saved as: /Users/nahuel/Desktop/SciPyLaVideoCovers/out/title_14_Roundtableaboutho_150.png\n",
      "'/Applications/Inkscape.app/Contents/Resources/script' -z -f \"/Users/nahuel/Desktop/SciPyLaVideoCovers/out/title_15_RoundtableaboutSc.svg\" -e \"/Users/nahuel/Desktop/SciPyLaVideoCovers/out/title_15_RoundtableaboutSc_150.png\" -d 150\n",
      "DPI: 150\n",
      "Background RRGGBBAA: ffffffff\n",
      "Area 0:0:1280:720 exported to 2133 x 1200 pixels (150 dpi)\n",
      "Bitmap saved as: /Users/nahuel/Desktop/SciPyLaVideoCovers/out/title_15_RoundtableaboutSc_150.png\n",
      "'/Applications/Inkscape.app/Contents/Resources/script' -z -f \"/Users/nahuel/Desktop/SciPyLaVideoCovers/out/title_16_InteractiveDataVis.svg\" -e \"/Users/nahuel/Desktop/SciPyLaVideoCovers/out/title_16_InteractiveDataVis_150.png\" -d 150\n",
      "DPI: 150\n",
      "Background RRGGBBAA: ffffffff\n",
      "Area 0:0:1280:720 exported to 2133 x 1200 pixels (150 dpi)\n",
      "Bitmap saved as: /Users/nahuel/Desktop/SciPyLaVideoCovers/out/title_16_InteractiveDataVis_150.png\n",
      "'/Applications/Inkscape.app/Contents/Resources/script' -z -f \"/Users/nahuel/Desktop/SciPyLaVideoCovers/out/title_17_Lightningtalks20.svg\" -e \"/Users/nahuel/Desktop/SciPyLaVideoCovers/out/title_17_Lightningtalks20_150.png\" -d 150\n",
      "DPI: 150\n",
      "Background RRGGBBAA: ffffffff\n",
      "Area 0:0:1280:720 exported to 2133 x 1200 pixels (150 dpi)\n",
      "Bitmap saved as: /Users/nahuel/Desktop/SciPyLaVideoCovers/out/title_17_Lightningtalks20_150.png\n",
      "'/Applications/Inkscape.app/Contents/Resources/script' -z -f \"/Users/nahuel/Desktop/SciPyLaVideoCovers/out/title_18_Ecuacionesdiferenci.svg\" -e \"/Users/nahuel/Desktop/SciPyLaVideoCovers/out/title_18_Ecuacionesdiferenci_150.png\" -d 150\n",
      "DPI: 150\n",
      "Background RRGGBBAA: ffffffff\n",
      "Area 0:0:1280:720 exported to 2133 x 1200 pixels (150 dpi)\n",
      "Bitmap saved as: /Users/nahuel/Desktop/SciPyLaVideoCovers/out/title_18_Ecuacionesdiferenci_150.png\n",
      "'/Applications/Inkscape.app/Contents/Resources/script' -z -f \"/Users/nahuel/Desktop/SciPyLaVideoCovers/out/title_19_Localizaunabiblio.svg\" -e \"/Users/nahuel/Desktop/SciPyLaVideoCovers/out/title_19_Localizaunabiblio_150.png\" -d 150\n",
      "DPI: 150\n",
      "Background RRGGBBAA: ffffffff\n",
      "Area 0:0:1280:720 exported to 2133 x 1200 pixels (150 dpi)\n",
      "Bitmap saved as: /Users/nahuel/Desktop/SciPyLaVideoCovers/out/title_19_Localizaunabiblio_150.png\n",
      "'/Applications/Inkscape.app/Contents/Resources/script' -z -f \"/Users/nahuel/Desktop/SciPyLaVideoCovers/out/title_1_Lightningtalks18.svg\" -e \"/Users/nahuel/Desktop/SciPyLaVideoCovers/out/title_1_Lightningtalks18_150.png\" -d 150\n",
      "DPI: 150\n",
      "Background RRGGBBAA: ffffffff\n",
      "Area 0:0:1280:720 exported to 2133 x 1200 pixels (150 dpi)\n",
      "Bitmap saved as: /Users/nahuel/Desktop/SciPyLaVideoCovers/out/title_1_Lightningtalks18_150.png\n",
      "'/Applications/Inkscape.app/Contents/Resources/script' -z -f \"/Users/nahuel/Desktop/SciPyLaVideoCovers/out/title_20_LearningAnalytics.svg\" -e \"/Users/nahuel/Desktop/SciPyLaVideoCovers/out/title_20_LearningAnalytics_150.png\" -d 150\n",
      "DPI: 150\n",
      "Background RRGGBBAA: ffffffff\n",
      "Area 0:0:1280:720 exported to 2133 x 1200 pixels (150 dpi)\n",
      "Bitmap saved as: /Users/nahuel/Desktop/SciPyLaVideoCovers/out/title_20_LearningAnalytics_150.png\n",
      "'/Applications/Inkscape.app/Contents/Resources/script' -z -f \"/Users/nahuel/Desktop/SciPyLaVideoCovers/out/title_21_FromSCADAtoIoTwi.svg\" -e \"/Users/nahuel/Desktop/SciPyLaVideoCovers/out/title_21_FromSCADAtoIoTwi_150.png\" -d 150\n",
      "DPI: 150\n",
      "Background RRGGBBAA: ffffffff\n",
      "Area 0:0:1280:720 exported to 2133 x 1200 pixels (150 dpi)\n",
      "Bitmap saved as: /Users/nahuel/Desktop/SciPyLaVideoCovers/out/title_21_FromSCADAtoIoTwi_150.png\n",
      "'/Applications/Inkscape.app/Contents/Resources/script' -z -f \"/Users/nahuel/Desktop/SciPyLaVideoCovers/out/title_22_Concludingdiscussio.svg\" -e \"/Users/nahuel/Desktop/SciPyLaVideoCovers/out/title_22_Concludingdiscussio_150.png\" -d 150\n",
      "DPI: 150\n",
      "Background RRGGBBAA: ffffffff\n",
      "Area 0:0:1280:720 exported to 2133 x 1200 pixels (150 dpi)\n",
      "Bitmap saved as: /Users/nahuel/Desktop/SciPyLaVideoCovers/out/title_22_Concludingdiscussio_150.png\n",
      "'/Applications/Inkscape.app/Contents/Resources/script' -z -f \"/Users/nahuel/Desktop/SciPyLaVideoCovers/out/title_2_Sinestesiacientfic.svg\" -e \"/Users/nahuel/Desktop/SciPyLaVideoCovers/out/title_2_Sinestesiacientfic_150.png\" -d 150\n",
      "DPI: 150\n",
      "Background RRGGBBAA: ffffffff\n",
      "Area 0:0:1280:720 exported to 2133 x 1200 pixels (150 dpi)\n",
      "Bitmap saved as: /Users/nahuel/Desktop/SciPyLaVideoCovers/out/title_2_Sinestesiacientfic_150.png\n",
      "'/Applications/Inkscape.app/Contents/Resources/script' -z -f \"/Users/nahuel/Desktop/SciPyLaVideoCovers/out/title_3_Thenumbalibrary.svg\" -e \"/Users/nahuel/Desktop/SciPyLaVideoCovers/out/title_3_Thenumbalibrary_150.png\" -d 150\n",
      "DPI: 150\n",
      "Background RRGGBBAA: ffffffff\n",
      "Area 0:0:1280:720 exported to 2133 x 1200 pixels (150 dpi)\n",
      "Bitmap saved as: /Users/nahuel/Desktop/SciPyLaVideoCovers/out/title_3_Thenumbalibrary_150.png\n",
      "'/Applications/Inkscape.app/Contents/Resources/script' -z -f \"/Users/nahuel/Desktop/SciPyLaVideoCovers/out/title_4_SoftwareCarpentry.svg\" -e \"/Users/nahuel/Desktop/SciPyLaVideoCovers/out/title_4_SoftwareCarpentry_150.png\" -d 150\n",
      "DPI: 150\n",
      "Background RRGGBBAA: ffffffff\n",
      "Area 0:0:1280:720 exported to 2133 x 1200 pixels (150 dpi)\n",
      "Bitmap saved as: /Users/nahuel/Desktop/SciPyLaVideoCovers/out/title_4_SoftwareCarpentry_150.png\n",
      "'/Applications/Inkscape.app/Contents/Resources/script' -z -f \"/Users/nahuel/Desktop/SciPyLaVideoCovers/out/title_5_ExternalCommands.svg\" -e \"/Users/nahuel/Desktop/SciPyLaVideoCovers/out/title_5_ExternalCommands_150.png\" -d 150\n",
      "DPI: 150\n",
      "Background RRGGBBAA: ffffffff\n",
      "Area 0:0:1280:720 exported to 2133 x 1200 pixels (150 dpi)\n",
      "Bitmap saved as: /Users/nahuel/Desktop/SciPyLaVideoCovers/out/title_5_ExternalCommands_150.png\n",
      "'/Applications/Inkscape.app/Contents/Resources/script' -z -f \"/Users/nahuel/Desktop/SciPyLaVideoCovers/out/title_6_importcommunity.svg\" -e \"/Users/nahuel/Desktop/SciPyLaVideoCovers/out/title_6_importcommunity_150.png\" -d 150\n",
      "DPI: 150\n",
      "Background RRGGBBAA: ffffffff\n",
      "Area 0:0:1280:720 exported to 2133 x 1200 pixels (150 dpi)\n",
      "Bitmap saved as: /Users/nahuel/Desktop/SciPyLaVideoCovers/out/title_6_importcommunity_150.png\n",
      "'/Applications/Inkscape.app/Contents/Resources/script' -z -f \"/Users/nahuel/Desktop/SciPyLaVideoCovers/out/title_7_Condaforgeandthe.svg\" -e \"/Users/nahuel/Desktop/SciPyLaVideoCovers/out/title_7_Condaforgeandthe_150.png\" -d 150\n",
      "DPI: 150\n",
      "Background RRGGBBAA: ffffffff\n",
      "Area 0:0:1280:720 exported to 2133 x 1200 pixels (150 dpi)\n",
      "Bitmap saved as: /Users/nahuel/Desktop/SciPyLaVideoCovers/out/title_7_Condaforgeandthe_150.png\n",
      "'/Applications/Inkscape.app/Contents/Resources/script' -z -f \"/Users/nahuel/Desktop/SciPyLaVideoCovers/out/title_8_GeraodaFrmacos.svg\" -e \"/Users/nahuel/Desktop/SciPyLaVideoCovers/out/title_8_GeraodaFrmacos_150.png\" -d 150\n",
      "DPI: 150\n",
      "Background RRGGBBAA: ffffffff\n",
      "Area 0:0:1280:720 exported to 2133 x 1200 pixels (150 dpi)\n",
      "Bitmap saved as: /Users/nahuel/Desktop/SciPyLaVideoCovers/out/title_8_GeraodaFrmacos_150.png\n",
      "'/Applications/Inkscape.app/Contents/Resources/script' -z -f \"/Users/nahuel/Desktop/SciPyLaVideoCovers/out/title_9_Lightningtalks19.svg\" -e \"/Users/nahuel/Desktop/SciPyLaVideoCovers/out/title_9_Lightningtalks19_150.png\" -d 150\n",
      "DPI: 150\n",
      "Background RRGGBBAA: ffffffff\n",
      "Area 0:0:1280:720 exported to 2133 x 1200 pixels (150 dpi)\n",
      "Bitmap saved as: /Users/nahuel/Desktop/SciPyLaVideoCovers/out/title_9_Lightningtalks19_150.png\n"
     ]
    }
   ],
   "source": [
    "!make"
   ]
  },
  {
   "cell_type": "code",
   "execution_count": 50,
   "metadata": {
    "collapsed": false
   },
   "outputs": [
    {
     "data": {
      "text/plain": [
       "23"
      ]
     },
     "execution_count": 50,
     "metadata": {},
     "output_type": "execute_result"
    }
   ],
   "source": [
    "len(data)"
   ]
  },
  {
   "cell_type": "code",
   "execution_count": 51,
   "metadata": {
    "collapsed": false
   },
   "outputs": [
    {
     "name": "stdout",
     "output_type": "stream",
     "text": [
      "\n",
      "7-Zip [64] 15.14 : Copyright (c) 1999-2015 Igor Pavlov : 2015-12-31\n",
      "p7zip Version 15.14.1 (locale=utf8,Utf16=on,HugeFiles=on,64 bits,4 CPUs x64)\n",
      "\n",
      "Open archive: scipy_video_covers.7z\n",
      "--\n",
      "Path = scipy_video_covers.7z\n",
      "Type = 7z\n",
      "Physical Size = 2959173\n",
      "Headers Size = 827\n",
      "Method = LZMA:23\n",
      "Solid = +\n",
      "Blocks = 1\n",
      "\n",
      "Scanning the drive:\n",
      "  0M Scan \b\b\b\b\b\b\b\b\b\b          \b\b\b\b\b\b\b\b\b\b23 files, 6786363 bytes (6628 KiB)\n",
      "\n",
      "Updating archive: scipy_video_covers.7z\n",
      "\n",
      "Items to compress: 23\n",
      "\n",
      "  0%\b\b\b\b    \b\b\b\b 11% 4 U out/title_13_SolvingMathProgram_150.png\b\b\b\b\b\b\b\b\b\b\b\b\b\b\b\b\b\b\b\b\b\b\b\b\b\b\b\b\b\b\b\b\b\b\b\b\b\b\b\b\b\b\b\b\b\b\b\b                                                \b\b\b\b\b\b\b\b\b\b\b\b\b\b\b\b\b\b\b\b\b\b\b\b\b\b\b\b\b\b\b\b\b\b\b\b\b\b\b\b\b\b\b\b\b\b\b\b 28% 8 U out/title_17_Lightningtalks20_150.png\b\b\b\b\b\b\b\b\b\b\b\b\b\b\b\b\b\b\b\b\b\b\b\b\b\b\b\b\b\b\b\b\b\b\b\b\b\b\b\b\b\b\b\b\b\b                                              \b\b\b\b\b\b\b\b\b\b\b\b\b\b\b\b\b\b\b\b\b\b\b\b\b\b\b\b\b\b\b\b\b\b\b\b\b\b\b\b\b\b\b\b\b\b 44% 11 U out/title_1_Lightningtalks18_150.png\b\b\b\b\b\b\b\b\b\b\b\b\b\b\b\b\b\b\b\b\b\b\b\b\b\b\b\b\b\b\b\b\b\b\b\b\b\b\b\b\b\b\b\b\b\b                                              \b\b\b\b\b\b\b\b\b\b\b\b\b\b\b\b\b\b\b\b\b\b\b\b\b\b\b\b\b\b\b\b\b\b\b\b\b\b\b\b\b\b\b\b\b\b 54% 14 U out/title_22_Concludingdiscussio_150.png\b\b\b\b\b\b\b\b\b\b\b\b\b\b\b\b\b\b\b\b\b\b\b\b\b\b\b\b\b\b\b\b\b\b\b\b\b\b\b\b\b\b\b\b\b\b\b\b\b\b                                                  \b\b\b\b\b\b\b\b\b\b\b\b\b\b\b\b\b\b\b\b\b\b\b\b\b\b\b\b\b\b\b\b\b\b\b\b\b\b\b\b\b\b\b\b\b\b\b\b\b\b 79% 19 U out/title_6_importcommunity_150.png\b\b\b\b\b\b\b\b\b\b\b\b\b\b\b\b\b\b\b\b\b\b\b\b\b\b\b\b\b\b\b\b\b\b\b\b\b\b\b\b\b\b\b\b\b                                             \b\b\b\b\b\b\b\b\b\b\b\b\b\b\b\b\b\b\b\b\b\b\b\b\b\b\b\b\b\b\b\b\b\b\b\b\b\b\b\b\b\b\b\b\b100% 23 U out/title_9_Lightningtalks19_150.png\b\b\b\b\b\b\b\b\b\b\b\b\b\b\b\b\b\b\b\b\b\b\b\b\b\b\b\b\b\b\b\b\b\b\b\b\b\b\b\b\b\b\b\b\b\b                                              \b\b\b\b\b\b\b\b\b\b\b\b\b\b\b\b\b\b\b\b\b\b\b\b\b\b\b\b\b\b\b\b\b\b\b\b\b\b\b\b\b\b\b\b\b\b\n",
      "Files read from disk: 23\n",
      "Archive size: 2966376 bytes (2897 KiB)\n",
      "Everything is Ok\n"
     ]
    }
   ],
   "source": [
    "!7z a -t7z -m0=lzma -mx=9 -mfb=64 -md=32m -ms=on scipy_video_covers.7z out/*.png"
   ]
  },
  {
   "cell_type": "code",
   "execution_count": 26,
   "metadata": {
    "collapsed": true
   },
   "outputs": [],
   "source": [
    "!rm *.7z"
   ]
  },
  {
   "cell_type": "code",
   "execution_count": 28,
   "metadata": {
    "collapsed": true
   },
   "outputs": [],
   "source": [
    "!open ."
   ]
  },
  {
   "cell_type": "code",
   "execution_count": null,
   "metadata": {
    "collapsed": true
   },
   "outputs": [],
   "source": []
  }
 ],
 "metadata": {
  "kernelspec": {
   "display_name": "Python 3",
   "language": "python",
   "name": "python3"
  },
  "language_info": {
   "codemirror_mode": {
    "name": "ipython",
    "version": 3
   },
   "file_extension": ".py",
   "mimetype": "text/x-python",
   "name": "python",
   "nbconvert_exporter": "python",
   "pygments_lexer": "ipython3",
   "version": "3.5.1"
  }
 },
 "nbformat": 4,
 "nbformat_minor": 0
}
